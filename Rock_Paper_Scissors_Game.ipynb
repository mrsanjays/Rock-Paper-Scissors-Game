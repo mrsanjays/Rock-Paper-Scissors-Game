{
  "nbformat": 4,
  "nbformat_minor": 0,
  "metadata": {
    "colab": {
      "provenance": [],
      "collapsed_sections": []
    },
    "kernelspec": {
      "name": "python3",
      "display_name": "Python 3"
    }
  },
  "cells": [
    {
      "cell_type": "markdown",
      "metadata": {
        "id": "e4QGT0wEyPzI"
      },
      "source": [
        "The Rock-Paper-Scissors Game"
      ]
    },
    {
      "cell_type": "markdown",
      "metadata": {
        "id": "HlBg2Ru0eNFF"
      },
      "source": [
        "---"
      ]
    },
    {
      "cell_type": "markdown",
      "metadata": {
        "id": "L7UdXXKRkGZb"
      },
      "source": [
        "### Overview\n",
        "\n",
        "In this project, you have to create a ROCK-PAPER-SCISSORS game in which a player plays either 'Rock', 'Paper' or 'Scissors' and a computer tries to beat the player based on the player's previous moves. This game is generally played between two people. The rules of this game are:\n",
        "\n",
        "1. Rock beats scissors.\n",
        "\n",
        "2. Scissors beat paper.\n",
        "\n",
        "3. Paper beats rock.\n",
        "\n",
        "\n",
        "<img src=\"https://s3-whjr-v2-prod-bucket.whjr.online/b5ceb1fc-1760-4cd4-ae6c-ea600e577899.svg\"/>\n",
        "\n",
        "*Image Credits: https://commons.wikimedia.org/wiki/*\n",
        "\n",
        "\n",
        "Click on the link provided below to know how the game is played between two players in real life.\n",
        "\n",
        "[How to Play Rock-Paper-Scissors](https://www.wikihow.com/Video/Play-Rock,-Paper,-Scissors)\n",
        "\n",
        "For every move, either a human player gets 1 point or the computer gets 1 point. The game runs till either a human player or the computer reaches a score of 10 points. \n",
        "\n",
        "**Player Input Format**\n",
        "\n",
        "A player should play his/her move by entering the numbers 0, 1 and 2 where- \n",
        "\n",
        "- 0 denotes ROCK.\n",
        "\n",
        "- 1 denotes PAPER.\n",
        "\n",
        "- 2 denotes SCISSORS.\n"
      ]
    },
    {
      "cell_type": "markdown",
      "metadata": {
        "id": "CtDFzWSsvovW"
      },
      "source": [
        "---"
      ]
    },
    {
      "cell_type": "markdown",
      "metadata": {
        "id": "bghFhMJ7TetH"
      },
      "source": [
        "---"
      ]
    },
    {
      "cell_type": "markdown",
      "metadata": {
        "id": "9Q0M0oH0vn8W"
      },
      "source": [
        "### The Algorithm\n",
        "\n",
        "In the algorithm, the computer should keep a count of player moves (i.e., the counts for 0, 1 and 2) in three separate variables - `count_rock`, `count_paper` and `count_scissors`. The algorithm should decide the computer's move based on the following possibilities:\n",
        "\n",
        "- If  `count_rock` $\\\\>$ `count_paper` and `count_rock` $\\\\>$ `count_scissors`, then the computer's move should be ROCK.\n",
        "\n",
        "\n",
        "- If  `count_paper` $\\\\>$ `count_rock` and `count_paper` $\\\\>$ `count_scissors`, then the computer's move should be PAPER.\n",
        "\n",
        "- If  `count_scissors` $\\\\>$ `count_rock` and `count_scissors` $\\\\>$ `count_paper`, then the computer's move should be SCISSORS.\n",
        "\n",
        "- In all other cases, the computer should play ROCK, PAPER and SCISSORS randomly.\n"
      ]
    },
    {
      "cell_type": "markdown",
      "metadata": {
        "id": "fQa66ZmKvjbh"
      },
      "source": [
        "---"
      ]
    },
    {
      "cell_type": "markdown",
      "metadata": {
        "id": "wTPPusbHePv6"
      },
      "source": [
        "---"
      ]
    },
    {
      "cell_type": "code",
      "metadata": {
        "id": "tVGefK0W7XYm"
      },
      "source": [
        "# Import the random module in the next line.\n",
        "import random\n",
        "\n",
        "# Create count_rock, count_paper and count_scissors variables and set their initial values equal to 0.\n",
        "count_rock=0\n",
        "count_paper=0\n",
        "count_scissors=0"
      ],
      "execution_count": null,
      "outputs": []
    },
    {
      "cell_type": "markdown",
      "metadata": {
        "id": "CLkrMirEd-J3"
      },
      "source": [
        "---"
      ]
    },
    {
      "cell_type": "markdown",
      "metadata": {
        "id": "wPiSv3iXyuPY"
      },
      "source": [
        "#### Create The `update_counts()` Function\n",
        "\n",
        "Now create a function and name it `update_counts()`. It should take `user_input` variable as input and update the count variables based on the following logic.\n",
        "\n",
        "- If the player plays ROCK (or `user_input == 0`), then increase the value of `count_rock` variable.\n",
        "\n",
        "- Else if the player plays PAPER (or `user_input == 1`), then increase the value of `count_paper` variable.\n",
        "\n",
        "- Else if the player plays SCISSORS (or `user_input == 2`), then increase the value of `count_scissors` variable.\n",
        "\n",
        "The `update_counts()` function should not return anything. In other words, it should not contain the `return` statement. It should only perform the actions prescribed above. Make sure that you add the `global` keyword before the `count_rock`, `count_paper` and `count_scissors` variables before incrementing their values. Without it you will face an error while running the game."
      ]
    },
    {
      "cell_type": "code",
      "metadata": {
        "id": "aRXQ7Psmyc88"
      },
      "source": [
        "# Create the update_counts() function.\n",
        "global count_paper\n",
        "global count_paper\n",
        "global count_scissors\n",
        "\n",
        "def update_counts():\n",
        "  if user_input==0:\n",
        "    count_rock+=1\n",
        "  elif user_input==1:\n",
        "    count_paper+=1\n",
        "  else:\n",
        "    count_scissors+=1\n"
      ],
      "execution_count": null,
      "outputs": []
    },
    {
      "cell_type": "markdown",
      "metadata": {
        "id": "d13rhawzeBL_"
      },
      "source": [
        "---"
      ]
    },
    {
      "cell_type": "markdown",
      "metadata": {
        "id": "lQNablFj2R2f"
      },
      "source": [
        "#### Create The `predict()` Function\n",
        "\n",
        "Next, you need to create a function called `predict()` which should return -\n",
        "\n",
        "- ROCK (or `0`), if the value of the `count_rock` variable is greater than the values of the `count_paper` and `count_scissors` variables.\n",
        "\n",
        "- PAPER (or `1`), if the value of the `count_paper` variable is greater than the values of the `count_rock` and `count_scissors` variables.\n",
        "\n",
        "- SCISSORS (or `2`), if the value of the `count_scissors` variable is greater than the values of the `count_rock` and `count_paper` variables.\n",
        "\n",
        "- `0, 1` or `2` randomly if the values of all the three variables i.e. `count_rock, count_paper` and `count_scissors` are equal.\n",
        "\n",
        "Use the `and` keyword to check two conditions simultaneously. For example, the code below should return `True` because  5 is less than 8 and 5 is less than 10."
      ]
    },
    {
      "cell_type": "code",
      "metadata": {
        "id": "M5HlFFbx7Nj0",
        "colab": {
          "base_uri": "https://localhost:8080/"
        },
        "outputId": "14d097ff-8160-4a9f-c6d1-f05e91cb6c28"
      },
      "source": [
        "5 < 8 and 5 < 10"
      ],
      "execution_count": null,
      "outputs": [
        {
          "output_type": "execute_result",
          "data": {
            "text/plain": [
              "True"
            ]
          },
          "metadata": {},
          "execution_count": 3
        }
      ]
    },
    {
      "cell_type": "markdown",
      "metadata": {
        "id": "KcScMMWn7a8V"
      },
      "source": [
        "The code below should return `False` because 5 is less than 13."
      ]
    },
    {
      "cell_type": "code",
      "metadata": {
        "id": "l1_3WPBT77PL",
        "colab": {
          "base_uri": "https://localhost:8080/"
        },
        "outputId": "87493a66-a413-4c1a-c38d-36c0a30ac5d2"
      },
      "source": [
        "5 > 13 and 5 < 10"
      ],
      "execution_count": null,
      "outputs": [
        {
          "output_type": "execute_result",
          "data": {
            "text/plain": [
              "False"
            ]
          },
          "metadata": {},
          "execution_count": 4
        }
      ]
    },
    {
      "cell_type": "markdown",
      "metadata": {
        "id": "KqotpZqk8SG2"
      },
      "source": [
        "The statement, `condition1 and condition2` is `True` if and only if both the conditions are `True`. If at least one of them is `False`, then the whole statement becomes `False`.\n",
        "\n",
        "\n",
        "Now, create the `predict()` function."
      ]
    },
    {
      "cell_type": "code",
      "metadata": {
        "id": "mZx0NTuy2l2f"
      },
      "source": [
        "# Create the predict() function.\n",
        "def predict():\n",
        "\n",
        "  if count_rock > count_paper and count_rock > count_scissors:\n",
        "    pred = 0\n",
        "  elif count_paper > count_rock and count_paper > count_scissors:\n",
        "    pred = 1\n",
        "  elif count_scissors > count_rock and count_scissors > count_paper:\n",
        "    pred = 2\n",
        "  else:\n",
        "    pred = random.randint(0, 2)\n",
        "\n",
        "  return pred"
      ],
      "execution_count": null,
      "outputs": []
    },
    {
      "cell_type": "markdown",
      "metadata": {
        "id": "is9vbO8KeDg8"
      },
      "source": [
        "---"
      ]
    },
    {
      "cell_type": "markdown",
      "metadata": {
        "id": "X-z3Zc89DIdh"
      },
      "source": [
        "#### Scores\n",
        "Now, create two variables `player_score` and `comp_score` to keep a track of the points secured by a player and a computer, respectively. Set their initial values equal to 0.  "
      ]
    },
    {
      "cell_type": "code",
      "metadata": {
        "id": "kmTRqKuBDiVw"
      },
      "source": [
        "# Create the player_score and comp_score variables.\n",
        "player_score=0\n",
        "comp_score=0\n"
      ],
      "execution_count": null,
      "outputs": []
    },
    {
      "cell_type": "markdown",
      "metadata": {
        "id": "bUyVtX_QeE-G"
      },
      "source": [
        "---"
      ]
    },
    {
      "cell_type": "markdown",
      "metadata": {
        "id": "lhW2U1tRCJj_"
      },
      "source": [
        "#### The `update_scores()` Function\n",
        "\n",
        "Create a function and name it `update_scores()`. It should take the `user_input` variable as input and update the scores of the computer and a player. For every player input, there are 3 possible responses from the computer. \n",
        "\n",
        "**In total, there are 9 possible situations:**\n",
        "\n",
        "1. Player plays ROCK, computer plays ROCK, resulting in a tie.\n",
        "\n",
        "2. Player plays ROCK, computer plays PAPER, the computer wins.\n",
        "\n",
        "3. Player plays ROCK, computer plays SCISSORS, the player wins.\n",
        "\n",
        "4. Player plays PAPER, computer plays PAPER, resulting in a tie.\n",
        "\n",
        "5. Player plays PAPER, computer plays ROCK, the player wins.\n",
        "\n",
        "6. Player plays PAPER, computer plays SCISSORS, the computer wins.\n",
        "\n",
        "7. Player plays SCISSORS, computer plays SCISSORS, resulting in a tie.\n",
        "\n",
        "8. Player plays SCISSORS, computer plays ROCK, the computer wins.\n",
        "\n",
        "9. Player plays SCISSORS, computer plays PAPER, the player wins.\n",
        "\n",
        "This function needs to cover all the 9 possible situations to update the scores. To correctly create this function, do the following tasks:\n",
        "\n",
        "1. Write the `global` keyword before the `player_score` and `comp_score` variables.\n",
        "\n",
        "2. Create a variable called `pred` and store the value returned by the `predict()` function.\n",
        "\n",
        "3. Write an `if` statement to cover the first 3 possible situations. The code for this part has been provided to you already as a reference to enable you to write the remaining statements.\n",
        "\n",
        "4. Write an `elif` statement to cover the next 3 possible situations.\n",
        "\n",
        "5. Write the `else` statement to cover the remaining 3 possible situations.\n",
        "\n",
        "6. For every possible situation you must print the following:\n",
        "\n",
        "  - `You played X, computer played Y.`\n",
        "\n",
        "  - `Computer Score:`\n",
        "  \n",
        "  - `Your Score:`\n",
        "  \n",
        "  Here, `X` is either `ROCK, PAPER` or `SCISSORS` and `Y` is also either `ROCK, PAPER` or `SCISSORS`. \n",
        "\n",
        "**Note:** The `\\n` is called the **newline** character. It adds an empty newline at the beginning if placed it is before a string or at the end if it is place after a string. Refer to the code shown below.\n",
        "\n"
      ]
    },
    {
      "cell_type": "code",
      "metadata": {
        "id": "GFcDtsfD4QuW",
        "colab": {
          "base_uri": "https://localhost:8080/"
        },
        "outputId": "c57b9050-680a-491a-c598-e7746f008a6a"
      },
      "source": [
        "# Placing \\n before a string.\n",
        "print(\"\\nPlacing the newline character before the string.\")"
      ],
      "execution_count": null,
      "outputs": [
        {
          "output_type": "stream",
          "name": "stdout",
          "text": [
            "\n",
            "Placing the newline character before the string.\n"
          ]
        }
      ]
    },
    {
      "cell_type": "markdown",
      "metadata": {
        "id": "GpTKrUxe4R24"
      },
      "source": [
        "As you can see, an empty new line is added before the string."
      ]
    },
    {
      "cell_type": "code",
      "metadata": {
        "id": "HDyHXJWv4XbG",
        "colab": {
          "base_uri": "https://localhost:8080/"
        },
        "outputId": "0c86f990-c9fd-4c45-edd0-59bf4d22eff5"
      },
      "source": [
        "# Placing \\n after a string.\n",
        "print(\"Placing the newline character before the string.\\n\")"
      ],
      "execution_count": null,
      "outputs": [
        {
          "output_type": "stream",
          "name": "stdout",
          "text": [
            "Placing the newline character before the string.\n",
            "\n"
          ]
        }
      ]
    },
    {
      "cell_type": "markdown",
      "metadata": {
        "id": "ujasuQ8s4YI3"
      },
      "source": [
        "As you can see, an empty new line is added after the string.\n",
        "\n",
        "Now, create the `update_scores()` function."
      ]
    },
    {
      "cell_type": "code",
      "metadata": {
        "id": "2T3NfNyB-BXO"
      },
      "source": [
        "# Create the update_scores() function.\n",
        "def update_scores(user_input):\n",
        "  global player_score, comp_score\n",
        "  # Rock wins over scissors, scissors win over paper and paper wins over rock.\n",
        "  pred = predict()\n",
        "\n",
        "  # Code for Situation 1, 2 and 3.\n",
        "  if user_input == 0:\n",
        "    if pred == 0:\n",
        "      print(\"\\nYou played ROCK, computer played ROCK.\")\n",
        "      print(\"\\nComputer Score: \", comp_score, \"\\nYour Score: \", player_score)\n",
        "    elif pred == 1:\n",
        "      print(\"\\nYou played ROCK, computer played PAPER.\")\n",
        "      comp_score += 1\n",
        "      print(\"\\nComputer Score: \", comp_score, \"\\nYour Score: \", player_score)\n",
        "    else:\n",
        "      print(\"\\nYou played ROCK, computer played SCISSORS.\")\n",
        "      player_score += 1\n",
        "      print(\"\\nComputer Score: \", comp_score, \"\\nYour Score: \", player_score)\n",
        "  \n",
        "  # Code for Situation 4, 5 and 6.\n",
        "  elif user_input == 1:\n",
        "    if pred == 1:\n",
        "      print(\"\\nYou played PAPER, computer played PAPER.\")\n",
        "      print(\"\\nComputer Score: \", comp_score, \"\\nYour Score: \", player_score)\n",
        "    elif pred == 0:\n",
        "      print(\"\\nYou played PAPER, computer played ROCK.\")\n",
        "      player_score += 1\n",
        "      print(\"\\nComputer Score: \", comp_score, \"\\nYour Score: \", player_score)\n",
        "    else:\n",
        "      print(\"\\nYou played PAPER, computer played SCISSORS.\")\n",
        "      comp_score += 1\n",
        "      print(\"\\nComputer Score: \", comp_score, \"\\nYour Score: \", player_score)\n",
        "\n",
        "  else:\n",
        "\n",
        "    # (Write the code for else statement to cover situation 7,8 and 9.)\n",
        "    if pred == 1:\n",
        "      print(\"\\nYou played SCISSORS, computer played PAPER.\")\n",
        "      player_score+=1\n",
        "      print(\"\\nComputer Score: \", comp_score, \"\\nYour Score: \", player_score)\n",
        "    elif pred == 0:\n",
        "      print(\"\\nYou played SCISSORS, computer played ROCK.\")\n",
        "      comp_score += 1\n",
        "      print(\"\\nComputer Score: \", comp_score, \"\\nYour Score: \", player_score)\n",
        "    else:\n",
        "      print(\"\\nYou played SCISSOR, computer played SCISSORS.\") \n",
        "      print(\"\\nComputer Score: \", comp_score, \"\\nYour Score: \", player_score)"
      ],
      "execution_count": null,
      "outputs": []
    },
    {
      "cell_type": "markdown",
      "metadata": {
        "id": "U8fwzPIXeHEA"
      },
      "source": [
        "---"
      ]
    },
    {
      "cell_type": "markdown",
      "metadata": {
        "id": "u-R8rU6fK3EW"
      },
      "source": [
        "#### Gameplay\n",
        "\n",
        "Now, it is time to run the game. \n",
        "\n",
        "1. Create a list: `['0', '1', '2']` and store it in the variable called `valid_entries`, i.e, `valid_entries = ['0', '1', '2']`.\n",
        "\n",
        "2. Create an infinite `while` loop. Inside the loop, create a variable called `user_input` to store the input taken by the player.\n",
        "\n",
        "3. Use the `input()` function to take input from a player. Inside the `input()` function, write the `Enter 0 for ROCK, 1 for PAPER and 2 for SCISSORS: ` statement to show it as a message to a player.\n",
        "\n",
        "4. Write another `while` loop to check whether the input provided by a player exists in the `valid_entries` list or not.\n",
        "\n",
        "5. If the input provided by a player does not exist in the `valid_entries` list, then print `Invalid Input!` message. In the next line, rewrite the `user_input = input(\"Enter 0 for ROCK, 1 for PAPER and 2 for SCISSORS: \")` statement.\n",
        "\n",
        "6. Now, outside the inner `while` loop, convert the `user_input` value to an integer value using the `int()` function.\n",
        "\n",
        "7. Call the `update_scores()` function with the `user_input` as an input to update the scores of the computer and the player.\n",
        "\n",
        "8. Call the `update_counts()` function with the `user_input` as an input to update the counts of the inputs provided by the player.\n",
        "\n",
        "9. Write an `if` statement to check if the score is 10 for any of the player. If the `comp_score == 10`, then print the `Computer Won!` message and break the loop. Else if the `player_score == 10`, then print the `You won!` message and break the loop.\n",
        "\n",
        "After writing code for the gameplay, the game should run smoothly till either the computer or the human player has reached a score of 10 points."
      ]
    },
    {
      "cell_type": "code",
      "metadata": {
        "id": "XunWo6pKe7jg",
        "colab": {
          "base_uri": "https://localhost:8080/"
        },
        "outputId": "6e92143e-9c71-43ae-bc3e-79884a157cc5"
      },
      "source": [
        "# 1. Create a list: ['0', '1', '2'] and store it in the variable called valid_entries, i.e, valid_entries = ['0', '1', '2']\n",
        "valid_entries = ['0', '1', '2']\n",
        "# 2. Create an infinite while loop. Inside the loop, create a variable called user_input to store the input taken by the player.\n",
        "while True:\n",
        "  # 3. Use the input() function to take input from a player. \n",
        "  # Inside the input() function, write the Enter 0 for ROCK, 1 for PAPER and 2 for SCISSORS: statement to show it as a message to a player.\n",
        "  user_input = input(\"Enter 0 for ROCK, 1 for PAPER and 2 for SCISSORS: \")\n",
        "\n",
        "\n",
        "  # 4. Write another while loop to check whether the input provided by a player exists in the valid_entries list or not.\n",
        "  while user_input not in valid_entries:\n",
        "    # 5. If the input provided by a player does not exist in the valid_entries list, then print Invalid Input! message. \n",
        "    # In the next line, rewrite the user_input = input(\"Enter 0 for ROCK, 1 for PAPER and 2 for SCISSORS: \") statement.\n",
        "    print(\"\\nInvalid Input!\")\n",
        "    user_input = input(\"Enter 0 for ROCK, 1 for PAPER and 2 for SCISSORS: \")\n",
        "\n",
        "  # 6. Now, outside the inner while loop, convert the user_input value to an integer value using the int() function. \n",
        "  user_input = int(user_input)\n",
        "  update_scores(user_input)\n",
        "  # 8. Call the update_counts() function with the user_input as an input to update the counts of the inputs provided by the player.\n",
        "\n",
        "# 9. Write an if statement to check if the score is 5 for any of the player\n",
        "# If the comp_score == 10, then print the Computer Won! message and break the loop. \n",
        "  if comp_score == 10:\n",
        "    print(\"Computer won !\")\n",
        "    break\n",
        " # Else if the player_score == 10, then print the You won! message and break the loop.\n",
        "  elif player_score == 10:\n",
        "    print(\"You won !\")\n",
        "    break\n",
        "\n",
        "2\n",
        "\n",
        "\n",
        " \n",
        "  \n",
        " "
      ],
      "execution_count": null,
      "outputs": [
        {
          "output_type": "stream",
          "name": "stdout",
          "text": [
            "Enter 0 for ROCK, 1 for PAPER and 2 for SCISSORS: 0\n",
            "\n",
            "You played ROCK, computer played SCISSORS.\n",
            "\n",
            "Computer Score:  0 \n",
            "Your Score:  1\n",
            "Enter 0 for ROCK, 1 for PAPER and 2 for SCISSORS: 1\n",
            "\n",
            "You played PAPER, computer played SCISSORS.\n",
            "\n",
            "Computer Score:  1 \n",
            "Your Score:  1\n",
            "Enter 0 for ROCK, 1 for PAPER and 2 for SCISSORS: 2\n",
            "\n",
            "You played SCISSOR, computer played SCISSORS.\n",
            "\n",
            "Computer Score:  1 \n",
            "Your Score:  1\n",
            "Enter 0 for ROCK, 1 for PAPER and 2 for SCISSORS: \n",
            "\n",
            "Invalid Input!\n",
            "Enter 0 for ROCK, 1 for PAPER and 2 for SCISSORS: 3\n",
            "\n",
            "Invalid Input!\n",
            "Enter 0 for ROCK, 1 for PAPER and 2 for SCISSORS: 4\n",
            "\n",
            "Invalid Input!\n",
            "Enter 0 for ROCK, 1 for PAPER and 2 for SCISSORS: 1\n",
            "\n",
            "You played PAPER, computer played PAPER.\n",
            "\n",
            "Computer Score:  1 \n",
            "Your Score:  1\n",
            "Enter 0 for ROCK, 1 for PAPER and 2 for SCISSORS: 2\n",
            "\n",
            "You played SCISSORS, computer played PAPER.\n",
            "\n",
            "Computer Score:  1 \n",
            "Your Score:  2\n",
            "Enter 0 for ROCK, 1 for PAPER and 2 for SCISSORS: 0\n",
            "\n",
            "You played ROCK, computer played PAPER.\n",
            "\n",
            "Computer Score:  2 \n",
            "Your Score:  2\n",
            "Enter 0 for ROCK, 1 for PAPER and 2 for SCISSORS: 0\n",
            "\n",
            "You played ROCK, computer played SCISSORS.\n",
            "\n",
            "Computer Score:  2 \n",
            "Your Score:  3\n",
            "Enter 0 for ROCK, 1 for PAPER and 2 for SCISSORS: 0\n",
            "\n",
            "You played ROCK, computer played SCISSORS.\n",
            "\n",
            "Computer Score:  2 \n",
            "Your Score:  4\n",
            "Enter 0 for ROCK, 1 for PAPER and 2 for SCISSORS: 0\n",
            "\n",
            "You played ROCK, computer played PAPER.\n",
            "\n",
            "Computer Score:  3 \n",
            "Your Score:  4\n",
            "Enter 0 for ROCK, 1 for PAPER and 2 for SCISSORS: 1\n",
            "\n",
            "You played PAPER, computer played PAPER.\n",
            "\n",
            "Computer Score:  3 \n",
            "Your Score:  4\n",
            "Enter 0 for ROCK, 1 for PAPER and 2 for SCISSORS: 1\n",
            "\n",
            "You played PAPER, computer played PAPER.\n",
            "\n",
            "Computer Score:  3 \n",
            "Your Score:  4\n",
            "Enter 0 for ROCK, 1 for PAPER and 2 for SCISSORS: 2\n",
            "\n",
            "You played SCISSORS, computer played PAPER.\n",
            "\n",
            "Computer Score:  3 \n",
            "Your Score:  5\n",
            "Enter 0 for ROCK, 1 for PAPER and 2 for SCISSORS: 0\n",
            "\n",
            "You played ROCK, computer played ROCK.\n",
            "\n",
            "Computer Score:  3 \n",
            "Your Score:  5\n",
            "Enter 0 for ROCK, 1 for PAPER and 2 for SCISSORS: 1\n",
            "\n",
            "You played PAPER, computer played PAPER.\n",
            "\n",
            "Computer Score:  3 \n",
            "Your Score:  5\n",
            "Enter 0 for ROCK, 1 for PAPER and 2 for SCISSORS: 0\n",
            "\n",
            "You played ROCK, computer played ROCK.\n",
            "\n",
            "Computer Score:  3 \n",
            "Your Score:  5\n",
            "Enter 0 for ROCK, 1 for PAPER and 2 for SCISSORS: 0\n",
            "\n",
            "You played ROCK, computer played ROCK.\n",
            "\n",
            "Computer Score:  3 \n",
            "Your Score:  5\n",
            "Enter 0 for ROCK, 1 for PAPER and 2 for SCISSORS: 1\n",
            "\n",
            "You played PAPER, computer played ROCK.\n",
            "\n",
            "Computer Score:  3 \n",
            "Your Score:  6\n",
            "Enter 0 for ROCK, 1 for PAPER and 2 for SCISSORS: 1\n",
            "\n",
            "You played PAPER, computer played ROCK.\n",
            "\n",
            "Computer Score:  3 \n",
            "Your Score:  7\n",
            "Enter 0 for ROCK, 1 for PAPER and 2 for SCISSORS: 2\n",
            "\n",
            "You played SCISSOR, computer played SCISSORS.\n",
            "\n",
            "Computer Score:  3 \n",
            "Your Score:  7\n",
            "Enter 0 for ROCK, 1 for PAPER and 2 for SCISSORS: 0\n",
            "\n",
            "You played ROCK, computer played ROCK.\n",
            "\n",
            "Computer Score:  3 \n",
            "Your Score:  7\n",
            "Enter 0 for ROCK, 1 for PAPER and 2 for SCISSORS: 1\n",
            "\n",
            "You played PAPER, computer played SCISSORS.\n",
            "\n",
            "Computer Score:  4 \n",
            "Your Score:  7\n",
            "Enter 0 for ROCK, 1 for PAPER and 2 for SCISSORS: 2\n",
            "\n",
            "You played SCISSORS, computer played ROCK.\n",
            "\n",
            "Computer Score:  5 \n",
            "Your Score:  7\n",
            "Enter 0 for ROCK, 1 for PAPER and 2 for SCISSORS: 2\n",
            "\n",
            "You played SCISSOR, computer played SCISSORS.\n",
            "\n",
            "Computer Score:  5 \n",
            "Your Score:  7\n",
            "Enter 0 for ROCK, 1 for PAPER and 2 for SCISSORS: 2\n",
            "\n",
            "You played SCISSORS, computer played PAPER.\n",
            "\n",
            "Computer Score:  5 \n",
            "Your Score:  8\n",
            "Enter 0 for ROCK, 1 for PAPER and 2 for SCISSORS: 0\n",
            "\n",
            "You played ROCK, computer played PAPER.\n",
            "\n",
            "Computer Score:  6 \n",
            "Your Score:  8\n",
            "Enter 0 for ROCK, 1 for PAPER and 2 for SCISSORS: 1\n",
            "\n",
            "You played PAPER, computer played SCISSORS.\n",
            "\n",
            "Computer Score:  7 \n",
            "Your Score:  8\n",
            "Enter 0 for ROCK, 1 for PAPER and 2 for SCISSORS: 0\n",
            "\n",
            "You played ROCK, computer played SCISSORS.\n",
            "\n",
            "Computer Score:  7 \n",
            "Your Score:  9\n",
            "Enter 0 for ROCK, 1 for PAPER and 2 for SCISSORS: 2\n",
            "\n",
            "You played SCISSORS, computer played PAPER.\n",
            "\n",
            "Computer Score:  7 \n",
            "Your Score:  10\n",
            "You won !\n"
          ]
        }
      ]
    },
    {
      "cell_type": "markdown",
      "metadata": {
        "id": "6i4qUgiVdhgP"
      },
      "source": [
        "---"
      ]
    }
  ]
}